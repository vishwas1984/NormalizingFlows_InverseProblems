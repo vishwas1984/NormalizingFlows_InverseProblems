{
 "cells": [
  {
   "cell_type": "code",
   "execution_count": 1,
   "metadata": {},
   "outputs": [],
   "source": [
    "import numpy as np, os, sys\n",
    "sys.path.append(os.path.join(os.getcwd(), '..'))\n",
    "import torch\n",
    "from torch import nn\n",
    "import gpytorch as gpt\n",
    "\n",
    "import src\n",
    "from src import surrogates\n",
    "\n",
    "%load_ext autoreload\n",
    "%autoreload 2"
   ]
  },
  {
   "cell_type": "code",
   "execution_count": 2,
   "metadata": {},
   "outputs": [],
   "source": [
    "# get the data \n",
    "x = torch.randn((100, 10))\n",
    "y = torch.randn((100,))\n",
    "\n",
    "# specify the mean function\n",
    "meanfn = gpt.means.ConstantMean \n",
    "\n",
    "# specify the covariance function \n",
    "kernelfn = gpt.kernels.RBFKernel\n",
    "\n",
    "# define a NN feature extractor\n",
    "warp_fn = nn.Sequential(*[nn.Linear(10, 100), nn.Tanh(), nn.Linear(100, 5)])\n",
    "\n",
    "# specify additional arguments to the surrogate \n",
    "params = {\n",
    "    \"ard_num_dims\":5,\n",
    "    \"scale_kernel\":True,\n",
    "    \"warp_fn\":warp_fn,\n",
    "}\n",
    "\n",
    "\n",
    "# define the surrogate model\n",
    "model = surrogates.ExactGPRegression(\n",
    "                                    x=x, \n",
    "                                    y=y, \n",
    "                                    mean_fn=meanfn, \n",
    "                                    kernel_fn=kernelfn,\n",
    "                                    **params\n",
    "                                     )"
   ]
  },
  {
   "cell_type": "code",
   "execution_count": 5,
   "metadata": {},
   "outputs": [
    {
     "name": "stdout",
     "output_type": "stream",
     "text": [
      "MultivariateNormal(loc: torch.Size([100]))\n"
     ]
    }
   ],
   "source": [
    "f = model(x)\n",
    "print(f)"
   ]
  },
  {
   "cell_type": "code",
   "execution_count": null,
   "metadata": {},
   "outputs": [],
   "source": []
  }
 ],
 "metadata": {
  "kernelspec": {
   "display_name": "Python 3",
   "language": "python",
   "name": "python3"
  },
  "language_info": {
   "codemirror_mode": {
    "name": "ipython",
    "version": 3
   },
   "file_extension": ".py",
   "mimetype": "text/x-python",
   "name": "python",
   "nbconvert_exporter": "python",
   "pygments_lexer": "ipython3",
   "version": "3.6.5"
  }
 },
 "nbformat": 4,
 "nbformat_minor": 2
}
